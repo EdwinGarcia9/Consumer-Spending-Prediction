{
 "cells": [
  {
   "cell_type": "markdown",
   "metadata": {},
   "source": [
    "# **1. Configuración del Ambiente**\n",
    "\n",
    "\n",
    "---"
   ]
  },
  {
   "cell_type": "code",
   "execution_count": 8,
   "metadata": {},
   "outputs": [],
   "source": [
    "import warnings\n",
    "warnings.filterwarnings(\"ignore\")\n",
    "import pandas as pd\n",
    "pd.set_option('display.max_columns', None)\n",
    "from scipy.stats import randint\n",
    "from sklearn.metrics import r2_score, mean_squared_error\n",
    "from sklearn.model_selection import train_test_split\n",
    "from sklearn.linear_model import LinearRegression\n",
    "from sklearn.ensemble import GradientBoostingRegressor\n",
    "from sklearn.tree import DecisionTreeRegressor\n",
    "from sklearn.ensemble import RandomForestRegressor\n",
    "import lightgbm as lgb\n",
    "from sklearn.model_selection import KFold\n",
    "from sklearn.model_selection import cross_val_score\n",
    "from sklearn.model_selection import RandomizedSearchCV\n",
    "global df_traffic, resultados, modelo, modelo_clasificacion"
   ]
  },
  {
   "cell_type": "markdown",
   "metadata": {},
   "source": [
    "# **2. Creación de Modelos de Regresión**\n",
    "\n",
    "\n",
    "---"
   ]
  },
  {
   "cell_type": "code",
   "execution_count": 9,
   "metadata": {},
   "outputs": [
    {
     "name": "stdout",
     "output_type": "stream",
     "text": [
      "<class 'pandas.core.frame.DataFrame'>\n",
      "RangeIndex: 12283 entries, 0 to 12282\n",
      "Data columns (total 24 columns):\n",
      " #   Column              Non-Null Count  Dtype  \n",
      "---  ------              --------------  -----  \n",
      " 0   visitNumber         12283 non-null  int64  \n",
      " 1   browser             12283 non-null  int64  \n",
      " 2   operatingSystem     12283 non-null  int64  \n",
      " 3   deviceCategory      12283 non-null  int64  \n",
      " 4   continent           12283 non-null  int64  \n",
      " 5   country             12283 non-null  int64  \n",
      " 6   metro               12283 non-null  int64  \n",
      " 7   city                12283 non-null  int64  \n",
      " 8   networkDomain       12283 non-null  int64  \n",
      " 9   campaign            12283 non-null  int64  \n",
      " 10  source              12283 non-null  int64  \n",
      " 11  medium              12283 non-null  int64  \n",
      " 12  keyword             12283 non-null  int64  \n",
      " 13  referralPath        12283 non-null  int64  \n",
      " 14  adContent           12283 non-null  int64  \n",
      " 15  pageviews           12283 non-null  int64  \n",
      " 16  bounces             12283 non-null  float64\n",
      " 17  newVisits           12283 non-null  float64\n",
      " 18  transactionRevenue  12283 non-null  float64\n",
      " 19  year                12283 non-null  int64  \n",
      " 20  day                 12283 non-null  int64  \n",
      " 21  weekday             12283 non-null  int64  \n",
      " 22  time_range          12283 non-null  int64  \n",
      " 23  Classifier          12283 non-null  int64  \n",
      "dtypes: float64(3), int64(21)\n",
      "memory usage: 2.2 MB\n"
     ]
    }
   ],
   "source": [
    "df_traffic = pd.read_csv('Classifier.csv', sep=';')\n",
    "df_traffic.info()"
   ]
  },
  {
   "cell_type": "markdown",
   "metadata": {},
   "source": [
    "### **2.1 Regresión Lineal**\n",
    "\n",
    "\n",
    "---"
   ]
  },
  {
   "cell_type": "code",
   "execution_count": 10,
   "metadata": {},
   "outputs": [
    {
     "name": "stdout",
     "output_type": "stream",
     "text": [
      "Mean Squared Error: 293.72803510804175\n"
     ]
    }
   ],
   "source": [
    "# Dividir los datos en conjunto de entrenamiento y prueba\n",
    "X = df_traffic.drop(columns=['transactionRevenue'])\n",
    "y = df_traffic['transactionRevenue']\n",
    "X_train, X_test, y_train, y_test = train_test_split(X, y, test_size=0.2, random_state=42)\n",
    "\n",
    "linear_model = LinearRegression()\n",
    "linear_model.fit(X_train, y_train)\n",
    "y_pred = linear_model.predict(X_test)\n",
    "\n",
    "# Evaluar el rendimiento del modelo\n",
    "mse = mean_squared_error(y_test, y_pred)\n",
    "print(\"Mean Squared Error:\", mse)"
   ]
  },
  {
   "cell_type": "markdown",
   "metadata": {},
   "source": [
    "### **2.2 LightGBM**\n",
    "\n",
    "\n",
    "---"
   ]
  },
  {
   "cell_type": "code",
   "execution_count": 11,
   "metadata": {},
   "outputs": [
    {
     "name": "stdout",
     "output_type": "stream",
     "text": [
      "[LightGBM] [Info] Total Bins 956\n",
      "[LightGBM] [Info] Number of data points in the train set: 9826, number of used features: 23\n",
      "[LightGBM] [Info] Start training from score 1.488793\n",
      "[LightGBM] [Warning] No further splits with positive gain, best gain: -inf\n",
      "Mean Squared Error: 213.44606818988592\n"
     ]
    }
   ],
   "source": [
    "# Definir los parámetros del modelo\n",
    "params = {\n",
    "    'objective': 'regression',       # Problema de regresión\n",
    "    'metric': 'mse',                 # Métrica de evaluación: Error cuadrático medio\n",
    "    'num_leaves': 31,                # Número máximo de hojas en un árbol\n",
    "    'learning_rate': 0.1,            # Tasa de aprendizaje\n",
    "    'max_depth': -1,                 # Profundidad máxima de cada árbol (-1 significa sin límite)\n",
    "    'min_child_samples': 20,         # Número mínimo de muestras necesarias para formar una nueva partición en un nodo\n",
    "    'reg_alpha': 0.0,                # Parámetro de regularización L1 (alpha)\n",
    "    'reg_lambda': 0.0,               # Parámetro de regularización L2 (lambda)\n",
    "    'n_estimators': 100,             # Número de árboles en el conjunto\n",
    "    'bagging_fraction': 0.8,         # Fracción de muestras para construir cada árbol (subsampling)\n",
    "    'feature_fraction': 0.8,         # Fracción de características para construir cada árbol (subsamplling de características)\n",
    "    'bagging_freq': 5,                # Frecuencia de subsampling (se realiza cada 5 iteraciones)\n",
    "    'force_col_wise': True          # Forzar el modo de entrenamiento de columnas\n",
    "}\n",
    "\n",
    "\n",
    "train_data = lgb.Dataset(X_train, label=y_train)\n",
    "model = lgb.train(params, train_data, num_boost_round=100)\n",
    "\n",
    "y_pred = model.predict(X_test)\n",
    "\n",
    "mse = mean_squared_error(y_test, y_pred)\n",
    "print(\"Mean Squared Error:\", mse)"
   ]
  },
  {
   "cell_type": "markdown",
   "metadata": {},
   "source": [
    "### **2.3  Gradient-boosted trees**\n",
    "\n",
    "\n",
    "---"
   ]
  },
  {
   "cell_type": "code",
   "execution_count": 12,
   "metadata": {},
   "outputs": [
    {
     "name": "stdout",
     "output_type": "stream",
     "text": [
      "Mean Squared Error: 261.7808248716831\n"
     ]
    }
   ],
   "source": [
    "X_train, X_test, y_train, y_test = train_test_split(X, y, test_size=0.2, random_state=42)\n",
    "\n",
    "# Creación del modelo Gradient Boosted Trees\n",
    "gbt_model = GradientBoostingRegressor()\n",
    "\n",
    "# Entrenamiento del modelo\n",
    "gbt_model.fit(X_train, y_train)\n",
    "\n",
    "# Predicción en el conjunto de prueba\n",
    "y_pred = gbt_model.predict(X_test)\n",
    "\n",
    "# Evaluación del modelo\n",
    "mse = mean_squared_error(y_test, y_pred)\n",
    "print(\"Mean Squared Error:\", mse)"
   ]
  },
  {
   "cell_type": "markdown",
   "metadata": {},
   "source": [
    "### **2.4 Desicion Tree**\n",
    "\n",
    "\n",
    "---"
   ]
  },
  {
   "cell_type": "code",
   "execution_count": 13,
   "metadata": {},
   "outputs": [
    {
     "name": "stdout",
     "output_type": "stream",
     "text": [
      "Mean Squared Error: 678.9123096052095\n"
     ]
    }
   ],
   "source": [
    "X_train, X_test, y_train, y_test = train_test_split(X, y, test_size=0.2, random_state=42)\n",
    "\n",
    "decision_tree = DecisionTreeRegressor()\n",
    "decision_tree.fit(X_train, y_train)\n",
    "y_pred = decision_tree.predict(X_test)\n",
    "\n",
    "# Calcular el error cuadrático medio (MSE)\n",
    "mse = mean_squared_error(y_test, y_pred)\n",
    "print(\"Mean Squared Error:\", mse)"
   ]
  },
  {
   "cell_type": "markdown",
   "metadata": {},
   "source": [
    "### **2.5 Random Forest**\n",
    "\n",
    "\n",
    "---"
   ]
  },
  {
   "cell_type": "code",
   "execution_count": 14,
   "metadata": {},
   "outputs": [
    {
     "name": "stdout",
     "output_type": "stream",
     "text": [
      "Mean Squared Error: 225.63661396709807\n"
     ]
    }
   ],
   "source": [
    "X_train, X_test, y_train, y_test = train_test_split(X, y, test_size=0.2, random_state=42)\n",
    "\n",
    "random_forest = RandomForestRegressor()\n",
    "random_forest.fit(X_train, y_train)\n",
    "y_pred = random_forest.predict(X_test)\n",
    "\n",
    "# Calcular el error cuadrático medio (MSE)\n",
    "mse = mean_squared_error(y_test, y_pred)\n",
    "print(\"Mean Squared Error:\", mse)"
   ]
  }
 ],
 "metadata": {
  "kernelspec": {
   "display_name": "Python 3",
   "language": "python",
   "name": "python3"
  },
  "language_info": {
   "codemirror_mode": {
    "name": "ipython",
    "version": 3
   },
   "file_extension": ".py",
   "mimetype": "text/x-python",
   "name": "python",
   "nbconvert_exporter": "python",
   "pygments_lexer": "ipython3",
   "version": "3.10.7"
  }
 },
 "nbformat": 4,
 "nbformat_minor": 2
}
