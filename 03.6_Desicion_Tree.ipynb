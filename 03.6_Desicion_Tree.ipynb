{
 "cells": [
  {
   "cell_type": "markdown",
   "metadata": {},
   "source": [
    "# **1. Configuración del Ambiente**\n",
    "\n",
    "\n",
    "---"
   ]
  },
  {
   "cell_type": "code",
   "execution_count": 40,
   "metadata": {},
   "outputs": [],
   "source": [
    "import warnings\n",
    "warnings.filterwarnings(\"ignore\")\n",
    "import pandas as pd\n",
    "import numpy as np\n",
    "pd.set_option('display.max_columns', None)\n",
    "from scipy.stats import randint\n",
    "from sklearn.metrics import r2_score, mean_squared_error\n",
    "from sklearn.model_selection import train_test_split\n",
    "from sklearn.linear_model import LinearRegression\n",
    "from sklearn.ensemble import GradientBoostingRegressor\n",
    "from sklearn.tree import DecisionTreeRegressor\n",
    "from sklearn.ensemble import RandomForestRegressor\n",
    "import lightgbm as lgb\n",
    "from sklearn.model_selection import KFold\n",
    "from sklearn.model_selection import cross_val_score\n",
    "from sklearn.model_selection import RandomizedSearchCV\n",
    "global df_traffic, resultados, modelo, modelo_clasificacion"
   ]
  },
  {
   "cell_type": "markdown",
   "metadata": {},
   "source": [
    "# **2. Creación de Modelo de Gradient Boosted Regressor**\n",
    "\n",
    "\n",
    "---"
   ]
  },
  {
   "cell_type": "code",
   "execution_count": 41,
   "metadata": {},
   "outputs": [
    {
     "name": "stdout",
     "output_type": "stream",
     "text": [
      "<class 'pandas.core.frame.DataFrame'>\n",
      "RangeIndex: 12283 entries, 0 to 12282\n",
      "Data columns (total 22 columns):\n",
      " #   Column              Non-Null Count  Dtype  \n",
      "---  ------              --------------  -----  \n",
      " 0   visitNumber         12283 non-null  int64  \n",
      " 1   browser             12283 non-null  int64  \n",
      " 2   operatingSystem     12283 non-null  int64  \n",
      " 3   deviceCategory      12283 non-null  int64  \n",
      " 4   continent           12283 non-null  int64  \n",
      " 5   country             12283 non-null  int64  \n",
      " 6   city                12283 non-null  int64  \n",
      " 7   networkDomain       12283 non-null  int64  \n",
      " 8   source              12283 non-null  int64  \n",
      " 9   medium              12283 non-null  int64  \n",
      " 10  keyword             12283 non-null  int64  \n",
      " 11  referralPath        12283 non-null  int64  \n",
      " 12  adContent           12283 non-null  int64  \n",
      " 13  pageviews           12283 non-null  int64  \n",
      " 14  bounces             12283 non-null  float64\n",
      " 15  newVisits           12283 non-null  float64\n",
      " 16  transactionRevenue  12283 non-null  float64\n",
      " 17  year                12283 non-null  int64  \n",
      " 18  day                 12283 non-null  int64  \n",
      " 19  weekday             12283 non-null  int64  \n",
      " 20  time_range          12283 non-null  int64  \n",
      " 21  Classifier          12283 non-null  int64  \n",
      "dtypes: float64(3), int64(19)\n",
      "memory usage: 2.1 MB\n"
     ]
    }
   ],
   "source": [
    "df_traffic = pd.read_csv('Classifier.csv', sep=';')\n",
    "df_traffic.info()"
   ]
  },
  {
   "cell_type": "code",
   "execution_count": 42,
   "metadata": {},
   "outputs": [
    {
     "name": "stdout",
     "output_type": "stream",
     "text": [
      "Mean Squared Error: 503.5913893772894\n"
     ]
    }
   ],
   "source": [
    "# Dividir los datos en conjunto de entrenamiento y prueba\n",
    "X = df_traffic.drop(columns=['transactionRevenue'])\n",
    "y = df_traffic['transactionRevenue']\n",
    "X_train, X_test, y_train, y_test = train_test_split(X, y, test_size=0.2, random_state=42)\n",
    "\n",
    "decision_tree = DecisionTreeRegressor()\n",
    "decision_tree.fit(X_train, y_train)\n",
    "y_pred = decision_tree.predict(X_test)\n",
    "\n",
    "# Calcular el error cuadrático medio (MSE)\n",
    "mse = mean_squared_error(y_test, y_pred)\n",
    "print(\"Mean Squared Error:\", mse)"
   ]
  },
  {
   "cell_type": "code",
   "execution_count": 43,
   "metadata": {},
   "outputs": [],
   "source": [
    "#definiendo el K - número de subconjuntos\n",
    "cv = KFold(n_splits = 5, shuffle=True)"
   ]
  },
  {
   "cell_type": "code",
   "execution_count": 44,
   "metadata": {},
   "outputs": [
    {
     "name": "stdout",
     "output_type": "stream",
     "text": [
      "Accuracy promedio de mse: -549.835\n"
     ]
    }
   ],
   "source": [
    "accuracy_cross_val = cross_val_score(estimator = decision_tree,\n",
    "                                       X = X_train,\n",
    "                                       y = y_train,\n",
    "                                       scoring = 'neg_mean_squared_error',\n",
    "                                       cv = cv)\n",
    "print('Accuracy promedio de mse: {}'.format(round(accuracy_cross_val.mean(), 3)))"
   ]
  },
  {
   "cell_type": "code",
   "execution_count": 45,
   "metadata": {},
   "outputs": [],
   "source": [
    "# Selección de hiperparámetros para la regresión lineal\n",
    "param_decision_tree = {\n",
    "    'criterion': ['mse', 'friedman_mse', 'mae'],\n",
    "    'splitter': ['best', 'random'],\n",
    "    'max_depth': [None, 5, 10, 20],\n",
    "    'min_samples_split': [2, 5, 10],\n",
    "    'min_samples_leaf': [1, 2, 4],\n",
    "    'max_features': ['auto', 'sqrt', 'log2', None]\n",
    "}\n"
   ]
  },
  {
   "cell_type": "code",
   "execution_count": 46,
   "metadata": {},
   "outputs": [],
   "source": [
    "# Configurar RandomizedSearchCV\n",
    "randomized_search_dtm = RandomizedSearchCV(\n",
    "    estimator=decision_tree,\n",
    "    param_distributions=param_decision_tree,\n",
    "    n_iter=10,  \n",
    "    cv=5, \n",
    "    scoring='neg_mean_squared_error',  \n",
    "    n_jobs=-1, \n",
    "    random_state=42  \n",
    ")\n"
   ]
  },
  {
   "cell_type": "code",
   "execution_count": 47,
   "metadata": {},
   "outputs": [
    {
     "data": {
      "text/html": [
       "<style>#sk-container-id-4 {color: black;}#sk-container-id-4 pre{padding: 0;}#sk-container-id-4 div.sk-toggleable {background-color: white;}#sk-container-id-4 label.sk-toggleable__label {cursor: pointer;display: block;width: 100%;margin-bottom: 0;padding: 0.3em;box-sizing: border-box;text-align: center;}#sk-container-id-4 label.sk-toggleable__label-arrow:before {content: \"▸\";float: left;margin-right: 0.25em;color: #696969;}#sk-container-id-4 label.sk-toggleable__label-arrow:hover:before {color: black;}#sk-container-id-4 div.sk-estimator:hover label.sk-toggleable__label-arrow:before {color: black;}#sk-container-id-4 div.sk-toggleable__content {max-height: 0;max-width: 0;overflow: hidden;text-align: left;background-color: #f0f8ff;}#sk-container-id-4 div.sk-toggleable__content pre {margin: 0.2em;color: black;border-radius: 0.25em;background-color: #f0f8ff;}#sk-container-id-4 input.sk-toggleable__control:checked~div.sk-toggleable__content {max-height: 200px;max-width: 100%;overflow: auto;}#sk-container-id-4 input.sk-toggleable__control:checked~label.sk-toggleable__label-arrow:before {content: \"▾\";}#sk-container-id-4 div.sk-estimator input.sk-toggleable__control:checked~label.sk-toggleable__label {background-color: #d4ebff;}#sk-container-id-4 div.sk-label input.sk-toggleable__control:checked~label.sk-toggleable__label {background-color: #d4ebff;}#sk-container-id-4 input.sk-hidden--visually {border: 0;clip: rect(1px 1px 1px 1px);clip: rect(1px, 1px, 1px, 1px);height: 1px;margin: -1px;overflow: hidden;padding: 0;position: absolute;width: 1px;}#sk-container-id-4 div.sk-estimator {font-family: monospace;background-color: #f0f8ff;border: 1px dotted black;border-radius: 0.25em;box-sizing: border-box;margin-bottom: 0.5em;}#sk-container-id-4 div.sk-estimator:hover {background-color: #d4ebff;}#sk-container-id-4 div.sk-parallel-item::after {content: \"\";width: 100%;border-bottom: 1px solid gray;flex-grow: 1;}#sk-container-id-4 div.sk-label:hover label.sk-toggleable__label {background-color: #d4ebff;}#sk-container-id-4 div.sk-serial::before {content: \"\";position: absolute;border-left: 1px solid gray;box-sizing: border-box;top: 0;bottom: 0;left: 50%;z-index: 0;}#sk-container-id-4 div.sk-serial {display: flex;flex-direction: column;align-items: center;background-color: white;padding-right: 0.2em;padding-left: 0.2em;position: relative;}#sk-container-id-4 div.sk-item {position: relative;z-index: 1;}#sk-container-id-4 div.sk-parallel {display: flex;align-items: stretch;justify-content: center;background-color: white;position: relative;}#sk-container-id-4 div.sk-item::before, #sk-container-id-4 div.sk-parallel-item::before {content: \"\";position: absolute;border-left: 1px solid gray;box-sizing: border-box;top: 0;bottom: 0;left: 50%;z-index: -1;}#sk-container-id-4 div.sk-parallel-item {display: flex;flex-direction: column;z-index: 1;position: relative;background-color: white;}#sk-container-id-4 div.sk-parallel-item:first-child::after {align-self: flex-end;width: 50%;}#sk-container-id-4 div.sk-parallel-item:last-child::after {align-self: flex-start;width: 50%;}#sk-container-id-4 div.sk-parallel-item:only-child::after {width: 0;}#sk-container-id-4 div.sk-dashed-wrapped {border: 1px dashed gray;margin: 0 0.4em 0.5em 0.4em;box-sizing: border-box;padding-bottom: 0.4em;background-color: white;}#sk-container-id-4 div.sk-label label {font-family: monospace;font-weight: bold;display: inline-block;line-height: 1.2em;}#sk-container-id-4 div.sk-label-container {text-align: center;}#sk-container-id-4 div.sk-container {/* jupyter's `normalize.less` sets `[hidden] { display: none; }` but bootstrap.min.css set `[hidden] { display: none !important; }` so we also need the `!important` here to be able to override the default hidden behavior on the sphinx rendered scikit-learn.org. See: https://github.com/scikit-learn/scikit-learn/issues/21755 */display: inline-block !important;position: relative;}#sk-container-id-4 div.sk-text-repr-fallback {display: none;}</style><div id=\"sk-container-id-4\" class=\"sk-top-container\"><div class=\"sk-text-repr-fallback\"><pre>RandomizedSearchCV(cv=5, estimator=DecisionTreeRegressor(), n_jobs=-1,\n",
       "                   param_distributions={&#x27;criterion&#x27;: [&#x27;mse&#x27;, &#x27;friedman_mse&#x27;,\n",
       "                                                      &#x27;mae&#x27;],\n",
       "                                        &#x27;max_depth&#x27;: [None, 5, 10, 20],\n",
       "                                        &#x27;max_features&#x27;: [&#x27;auto&#x27;, &#x27;sqrt&#x27;, &#x27;log2&#x27;,\n",
       "                                                         None],\n",
       "                                        &#x27;min_samples_leaf&#x27;: [1, 2, 4],\n",
       "                                        &#x27;min_samples_split&#x27;: [2, 5, 10],\n",
       "                                        &#x27;splitter&#x27;: [&#x27;best&#x27;, &#x27;random&#x27;]},\n",
       "                   random_state=42, scoring=&#x27;neg_mean_squared_error&#x27;)</pre><b>In a Jupyter environment, please rerun this cell to show the HTML representation or trust the notebook. <br />On GitHub, the HTML representation is unable to render, please try loading this page with nbviewer.org.</b></div><div class=\"sk-container\" hidden><div class=\"sk-item sk-dashed-wrapped\"><div class=\"sk-label-container\"><div class=\"sk-label sk-toggleable\"><input class=\"sk-toggleable__control sk-hidden--visually\" id=\"sk-estimator-id-10\" type=\"checkbox\" ><label for=\"sk-estimator-id-10\" class=\"sk-toggleable__label sk-toggleable__label-arrow\">RandomizedSearchCV</label><div class=\"sk-toggleable__content\"><pre>RandomizedSearchCV(cv=5, estimator=DecisionTreeRegressor(), n_jobs=-1,\n",
       "                   param_distributions={&#x27;criterion&#x27;: [&#x27;mse&#x27;, &#x27;friedman_mse&#x27;,\n",
       "                                                      &#x27;mae&#x27;],\n",
       "                                        &#x27;max_depth&#x27;: [None, 5, 10, 20],\n",
       "                                        &#x27;max_features&#x27;: [&#x27;auto&#x27;, &#x27;sqrt&#x27;, &#x27;log2&#x27;,\n",
       "                                                         None],\n",
       "                                        &#x27;min_samples_leaf&#x27;: [1, 2, 4],\n",
       "                                        &#x27;min_samples_split&#x27;: [2, 5, 10],\n",
       "                                        &#x27;splitter&#x27;: [&#x27;best&#x27;, &#x27;random&#x27;]},\n",
       "                   random_state=42, scoring=&#x27;neg_mean_squared_error&#x27;)</pre></div></div></div><div class=\"sk-parallel\"><div class=\"sk-parallel-item\"><div class=\"sk-item\"><div class=\"sk-label-container\"><div class=\"sk-label sk-toggleable\"><input class=\"sk-toggleable__control sk-hidden--visually\" id=\"sk-estimator-id-11\" type=\"checkbox\" ><label for=\"sk-estimator-id-11\" class=\"sk-toggleable__label sk-toggleable__label-arrow\">estimator: DecisionTreeRegressor</label><div class=\"sk-toggleable__content\"><pre>DecisionTreeRegressor()</pre></div></div></div><div class=\"sk-serial\"><div class=\"sk-item\"><div class=\"sk-estimator sk-toggleable\"><input class=\"sk-toggleable__control sk-hidden--visually\" id=\"sk-estimator-id-12\" type=\"checkbox\" ><label for=\"sk-estimator-id-12\" class=\"sk-toggleable__label sk-toggleable__label-arrow\">DecisionTreeRegressor</label><div class=\"sk-toggleable__content\"><pre>DecisionTreeRegressor()</pre></div></div></div></div></div></div></div></div></div></div>"
      ],
      "text/plain": [
       "RandomizedSearchCV(cv=5, estimator=DecisionTreeRegressor(), n_jobs=-1,\n",
       "                   param_distributions={'criterion': ['mse', 'friedman_mse',\n",
       "                                                      'mae'],\n",
       "                                        'max_depth': [None, 5, 10, 20],\n",
       "                                        'max_features': ['auto', 'sqrt', 'log2',\n",
       "                                                         None],\n",
       "                                        'min_samples_leaf': [1, 2, 4],\n",
       "                                        'min_samples_split': [2, 5, 10],\n",
       "                                        'splitter': ['best', 'random']},\n",
       "                   random_state=42, scoring='neg_mean_squared_error')"
      ]
     },
     "execution_count": 47,
     "metadata": {},
     "output_type": "execute_result"
    }
   ],
   "source": [
    "# Ajustar el modelo\n",
    "randomized_search_dtm.fit(X_train, y_train)"
   ]
  },
  {
   "cell_type": "code",
   "execution_count": 48,
   "metadata": {},
   "outputs": [
    {
     "name": "stdout",
     "output_type": "stream",
     "text": [
      "Mejores parámetros: {'splitter': 'random', 'min_samples_split': 10, 'min_samples_leaf': 4, 'max_features': 'log2', 'max_depth': 10, 'criterion': 'friedman_mse'}\n",
      "Mejor puntuación: -396.5940835202558\n"
     ]
    }
   ],
   "source": [
    "# Obtener los mejores parámetros y la mejor puntuación\n",
    "best_params_dtm = randomized_search_dtm.best_params_\n",
    "best_score_dtm = randomized_search_dtm.best_score_\n",
    "\n",
    "print(\"Mejores parámetros:\", best_params_dtm)\n",
    "print(\"Mejor puntuación:\", best_score_dtm)"
   ]
  },
  {
   "cell_type": "code",
   "execution_count": 49,
   "metadata": {},
   "outputs": [
    {
     "name": "stdout",
     "output_type": "stream",
     "text": [
      "Mean Squared Error: 264.0897690394761\n",
      "R^2 Score: 0.3849754203331497\n",
      "Root Mean Squared Error: 16.25083902570806\n"
     ]
    }
   ],
   "source": [
    "# Crear una nueva instancia de GradientBoostingRegressor con los mejores parámetros encontrados\n",
    "best_dt_model = DecisionTreeRegressor(**randomized_search_dtm.best_params_)\n",
    "\n",
    "# Entrenar el modelo con los datos de entrenamiento\n",
    "best_dt_model.fit(X_train, y_train)\n",
    "\n",
    "# Predecir con el modelo entrenado\n",
    "y_pred = best_dt_model.predict(X_test)\n",
    "\n",
    "# Evaluar el modelo\n",
    "mse = mean_squared_error(y_test, y_pred)\n",
    "print(\"Mean Squared Error:\", mse)\n",
    "\n",
    "# Calcular R^2\n",
    "r2 = r2_score(y_test, y_pred)\n",
    "print(\"R^2 Score:\", r2)\n",
    "\n",
    "# Calcular RMSE\n",
    "rmse = np.sqrt(mse)\n",
    "print(\"Root Mean Squared Error:\", rmse)"
   ]
  },
  {
   "cell_type": "code",
   "execution_count": 50,
   "metadata": {},
   "outputs": [
    {
     "name": "stdout",
     "output_type": "stream",
     "text": [
      "{'model': 'DecisionTreeRegressor-Edwin6', 'mse': 264.0897690394761, 'r2': 0.3849754203331497, 'rmse': 16.25083902570806}\n"
     ]
    }
   ],
   "source": [
    "model_scores = {\n",
    "    'model': 'DecisionTreeRegressor-Edwin6',\n",
    "    'mse': mse,\n",
    "    'r2': r2,\n",
    "    'rmse': rmse\n",
    "}\n",
    "print(model_scores)"
   ]
  },
  {
   "cell_type": "code",
   "execution_count": 51,
   "metadata": {},
   "outputs": [],
   "source": [
    "def save_scores(model_scores: dict):\n",
    "  status = []\n",
    "  #Utilizamos un try-except en caso de que el archivo no exista que cree uno\n",
    "  try:\n",
    "    #Si el archivo existe continúa por acá\n",
    "    scores = pd.read_csv('scores.csv', sep=';')\n",
    "    status.append('El archivo existe')\n",
    "    exist = model_scores['model'] in scores['model'].values\n",
    "    #Validamos si el modelo ya existe en el archivo de scores\n",
    "    if (exist):\n",
    "      #Si el modelo ya existe reemplazamos sus valores\n",
    "      status.append('El modelo existe')\n",
    "      criteria = scores['model'] == model_scores['model']\n",
    "      index = scores[criteria].index[0]\n",
    "      scores.iloc[index] = model_scores\n",
    "      status.append('Se reemplazaron los valores del modelo')\n",
    "    else:\n",
    "      #Si el modelo no existe lo agregamos\n",
    "      status.append('El modelo no existe')\n",
    "      df_model_scores = pd.DataFrame(model_scores, index=[0])\n",
    "      scores = pd.concat([scores, df_model_scores], ignore_index=True)\n",
    "      status.append('Se añadió modelo nuevo y sus valores')\n",
    "  except:\n",
    "    #Si no existe el archivo lo creamos y cargamos los scores del modelo\n",
    "    status.append('El archivo no existe')\n",
    "    scores = pd.DataFrame(model_scores, index=[0])\n",
    "\n",
    "  status.append('Se sobrescrive el archivo scores.csv con valores nuevos')\n",
    "  scores.to_csv('scores.csv', sep=';', index=False)\n",
    "  return status"
   ]
  },
  {
   "cell_type": "code",
   "execution_count": 52,
   "metadata": {},
   "outputs": [
    {
     "data": {
      "text/plain": [
       "['El archivo existe',\n",
       " 'El modelo no existe',\n",
       " 'Se añadió modelo nuevo y sus valores',\n",
       " 'Se sobrescrive el archivo scores.csv con valores nuevos']"
      ]
     },
     "execution_count": 52,
     "metadata": {},
     "output_type": "execute_result"
    }
   ],
   "source": [
    "save_scores(model_scores)"
   ]
  }
 ],
 "metadata": {
  "kernelspec": {
   "display_name": "Python 3",
   "language": "python",
   "name": "python3"
  },
  "language_info": {
   "codemirror_mode": {
    "name": "ipython",
    "version": 3
   },
   "file_extension": ".py",
   "mimetype": "text/x-python",
   "name": "python",
   "nbconvert_exporter": "python",
   "pygments_lexer": "ipython3",
   "version": "3.10.7"
  }
 },
 "nbformat": 4,
 "nbformat_minor": 2
}
