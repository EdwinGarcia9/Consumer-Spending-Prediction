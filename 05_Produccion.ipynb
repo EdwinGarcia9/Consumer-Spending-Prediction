{
 "cells": [
  {
   "cell_type": "markdown",
   "metadata": {},
   "source": [
    "# **1. Configuración del Ambiente**\n",
    "\n",
    "\n",
    "---"
   ]
  },
  {
   "cell_type": "code",
   "execution_count": 17,
   "metadata": {},
   "outputs": [],
   "source": [
    "import warnings\n",
    "warnings.filterwarnings(\"ignore\")\n",
    "import pandas as pd\n",
    "import numpy as np\n",
    "pd.set_option('display.max_columns', None)\n",
    "from scipy.stats import randint\n",
    "from sklearn.metrics import r2_score, mean_squared_error\n",
    "from sklearn.model_selection import train_test_split\n",
    "from sklearn.ensemble import RandomForestRegressor\n",
    "import joblib"
   ]
  },
  {
   "cell_type": "markdown",
   "metadata": {},
   "source": [
    "# **2. Puesta en Producción**\n",
    "\n",
    "\n",
    "---"
   ]
  },
  {
   "cell_type": "code",
   "execution_count": 18,
   "metadata": {},
   "outputs": [],
   "source": [
    "best_model = joblib.load('modelo_random_forest.joblib')"
   ]
  },
  {
   "cell_type": "code",
   "execution_count": 19,
   "metadata": {},
   "outputs": [],
   "source": [
    "classifier_model = joblib.load('modelo_clasificacion.joblib')"
   ]
  },
  {
   "cell_type": "code",
   "execution_count": 20,
   "metadata": {},
   "outputs": [],
   "source": [
    "df_traffic = pd.read_csv(\"df_traffic_end.csv\", sep=\";\")"
   ]
  },
  {
   "cell_type": "code",
   "execution_count": 21,
   "metadata": {},
   "outputs": [
    {
     "name": "stdout",
     "output_type": "stream",
     "text": [
      "R-cuadrado (R²): 78.1579385971975\n",
      "Error cuadrático medio (MSE): 95.34482216423858\n",
      "Raíz del error cuadrático medio (RMSE): 9.764467326190333\n"
     ]
    }
   ],
   "source": [
    "#Pronosticar con la nueva base\n",
    "X = df_traffic.drop('transactionRevenue',axis=1)\n",
    "X['Classifier'] = classifier_model.predict(X)\n",
    "y = df_traffic.transactionRevenue.copy()\n",
    "predictions = best_model.predict(X)\n",
    "predictions[predictions < 1] = 0\n",
    "\n",
    "\n",
    "#Metricas\n",
    "r2 = r2_score(y, predictions)*100\n",
    "mse = mean_squared_error(y, predictions)\n",
    "rmse = np.sqrt(mse)\n",
    "print(\"R-cuadrado (R²): {}\".format(r2))\n",
    "print(\"Error cuadrático medio (MSE): {}\".format(mse))\n",
    "print(\"Raíz del error cuadrático medio (RMSE): {}\".format(rmse))"
   ]
  },
  {
   "cell_type": "code",
   "execution_count": 22,
   "metadata": {},
   "outputs": [
    {
     "data": {
      "text/html": [
       "<div>\n",
       "<style scoped>\n",
       "    .dataframe tbody tr th:only-of-type {\n",
       "        vertical-align: middle;\n",
       "    }\n",
       "\n",
       "    .dataframe tbody tr th {\n",
       "        vertical-align: top;\n",
       "    }\n",
       "\n",
       "    .dataframe thead th {\n",
       "        text-align: right;\n",
       "    }\n",
       "</style>\n",
       "<table border=\"1\" class=\"dataframe\">\n",
       "  <thead>\n",
       "    <tr style=\"text-align: right;\">\n",
       "      <th></th>\n",
       "      <th>transactionRevenue</th>\n",
       "      <th>predictions</th>\n",
       "    </tr>\n",
       "  </thead>\n",
       "  <tbody>\n",
       "    <tr>\n",
       "      <th>93</th>\n",
       "      <td>31.49</td>\n",
       "      <td>32.941533</td>\n",
       "    </tr>\n",
       "    <tr>\n",
       "      <th>395</th>\n",
       "      <td>16.78</td>\n",
       "      <td>52.131186</td>\n",
       "    </tr>\n",
       "    <tr>\n",
       "      <th>11447</th>\n",
       "      <td>62.05</td>\n",
       "      <td>89.609158</td>\n",
       "    </tr>\n",
       "    <tr>\n",
       "      <th>193</th>\n",
       "      <td>13.59</td>\n",
       "      <td>45.045958</td>\n",
       "    </tr>\n",
       "    <tr>\n",
       "      <th>5304</th>\n",
       "      <td>184.05</td>\n",
       "      <td>146.531097</td>\n",
       "    </tr>\n",
       "    <tr>\n",
       "      <th>4442</th>\n",
       "      <td>6.99</td>\n",
       "      <td>52.356339</td>\n",
       "    </tr>\n",
       "    <tr>\n",
       "      <th>9254</th>\n",
       "      <td>59.98</td>\n",
       "      <td>57.517958</td>\n",
       "    </tr>\n",
       "    <tr>\n",
       "      <th>9091</th>\n",
       "      <td>279.97</td>\n",
       "      <td>291.194421</td>\n",
       "    </tr>\n",
       "    <tr>\n",
       "      <th>2838</th>\n",
       "      <td>18.99</td>\n",
       "      <td>21.214479</td>\n",
       "    </tr>\n",
       "    <tr>\n",
       "      <th>557</th>\n",
       "      <td>107.94</td>\n",
       "      <td>160.545410</td>\n",
       "    </tr>\n",
       "  </tbody>\n",
       "</table>\n",
       "</div>"
      ],
      "text/plain": [
       "       transactionRevenue  predictions\n",
       "93                  31.49    32.941533\n",
       "395                 16.78    52.131186\n",
       "11447               62.05    89.609158\n",
       "193                 13.59    45.045958\n",
       "5304               184.05   146.531097\n",
       "4442                 6.99    52.356339\n",
       "9254                59.98    57.517958\n",
       "9091               279.97   291.194421\n",
       "2838                18.99    21.214479\n",
       "557                107.94   160.545410"
      ]
     },
     "execution_count": 22,
     "metadata": {},
     "output_type": "execute_result"
    }
   ],
   "source": [
    "df_resultados = pd.DataFrame({\n",
    "    'transactionRevenue': y,\n",
    "    'predictions': predictions\n",
    "})\n",
    "df_resultados[df_resultados.transactionRevenue>0].sample(10)"
   ]
  }
 ],
 "metadata": {
  "kernelspec": {
   "display_name": "base",
   "language": "python",
   "name": "python3"
  },
  "language_info": {
   "codemirror_mode": {
    "name": "ipython",
    "version": 3
   },
   "file_extension": ".py",
   "mimetype": "text/x-python",
   "name": "python",
   "nbconvert_exporter": "python",
   "pygments_lexer": "ipython3",
   "version": "3.11.5"
  }
 },
 "nbformat": 4,
 "nbformat_minor": 2
}
